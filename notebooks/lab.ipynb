{
 "cells": [
  {
   "cell_type": "code",
   "execution_count": 116,
   "metadata": {},
   "outputs": [],
   "source": [
    "import numpy as np\n",
    "import pandas as pd\n",
    "from sklearn import preprocessing\n",
    "from sklearn.metrics import normalized_mutual_info_score\n",
    "from sklearn.cluster import KMeans\n",
    "from sklearn.cluster import MiniBatchKMeans\n",
    "from sklearn.cluster import AffinityPropagation"
   ]
  },
  {
   "cell_type": "code",
   "execution_count": 117,
   "metadata": {},
   "outputs": [],
   "source": [
    "df = pd.read_excel(\"../data/preprocessed/train_mice.xls\")"
   ]
  },
  {
   "cell_type": "code",
   "execution_count": 118,
   "metadata": {},
   "outputs": [
    {
     "name": "stdout",
     "output_type": "stream",
     "text": [
      "<class 'pandas.core.frame.DataFrame'>\n",
      "RangeIndex: 1080 entries, 0 to 1079\n",
      "Data columns (total 82 columns):\n",
      " #   Column           Non-Null Count  Dtype  \n",
      "---  ------           --------------  -----  \n",
      " 0   MouseID          1080 non-null   object \n",
      " 1   DYRK1A_N         1077 non-null   float64\n",
      " 2   ITSN1_N          1077 non-null   float64\n",
      " 3   BDNF_N           1077 non-null   float64\n",
      " 4   NR1_N            1077 non-null   float64\n",
      " 5   NR2A_N           1077 non-null   float64\n",
      " 6   pAKT_N           1077 non-null   float64\n",
      " 7   pBRAF_N          1077 non-null   float64\n",
      " 8   pCAMKII_N        1077 non-null   float64\n",
      " 9   pCREB_N          1077 non-null   float64\n",
      " 10  pELK_N           1077 non-null   float64\n",
      " 11  pERK_N           1077 non-null   float64\n",
      " 12  pJNK_N           1077 non-null   float64\n",
      " 13  PKCA_N           1077 non-null   float64\n",
      " 14  pMEK_N           1077 non-null   float64\n",
      " 15  pNR1_N           1077 non-null   float64\n",
      " 16  pNR2A_N          1077 non-null   float64\n",
      " 17  pNR2B_N          1077 non-null   float64\n",
      " 18  pPKCAB_N         1077 non-null   float64\n",
      " 19  pRSK_N           1077 non-null   float64\n",
      " 20  AKT_N            1077 non-null   float64\n",
      " 21  BRAF_N           1077 non-null   float64\n",
      " 22  CAMKII_N         1077 non-null   float64\n",
      " 23  CREB_N           1077 non-null   float64\n",
      " 24  ELK_N            1062 non-null   float64\n",
      " 25  ERK_N            1077 non-null   float64\n",
      " 26  GSK3B_N          1077 non-null   float64\n",
      " 27  JNK_N            1077 non-null   float64\n",
      " 28  MEK_N            1073 non-null   float64\n",
      " 29  TRKA_N           1077 non-null   float64\n",
      " 30  RSK_N            1077 non-null   float64\n",
      " 31  APP_N            1077 non-null   float64\n",
      " 32  Bcatenin_N       1062 non-null   float64\n",
      " 33  SOD1_N           1077 non-null   float64\n",
      " 34  MTOR_N           1077 non-null   float64\n",
      " 35  P38_N            1077 non-null   float64\n",
      " 36  pMTOR_N          1077 non-null   float64\n",
      " 37  DSCR1_N          1077 non-null   float64\n",
      " 38  AMPKA_N          1077 non-null   float64\n",
      " 39  NR2B_N           1077 non-null   float64\n",
      " 40  pNUMB_N          1077 non-null   float64\n",
      " 41  RAPTOR_N         1077 non-null   float64\n",
      " 42  TIAM1_N          1077 non-null   float64\n",
      " 43  pP70S6_N         1077 non-null   float64\n",
      " 44  NUMB_N           1080 non-null   float64\n",
      " 45  P70S6_N          1080 non-null   float64\n",
      " 46  pGSK3B_N         1080 non-null   float64\n",
      " 47  pPKCG_N          1080 non-null   float64\n",
      " 48  CDK5_N           1080 non-null   float64\n",
      " 49  S6_N             1080 non-null   float64\n",
      " 50  ADARB1_N         1080 non-null   float64\n",
      " 51  AcetylH3K9_N     1080 non-null   float64\n",
      " 52  RRP1_N           1080 non-null   float64\n",
      " 53  BAX_N            1080 non-null   float64\n",
      " 54  ARC_N            1080 non-null   float64\n",
      " 55  ERBB4_N          1080 non-null   float64\n",
      " 56  nNOS_N           1080 non-null   float64\n",
      " 57  Tau_N            1080 non-null   float64\n",
      " 58  GFAP_N           1080 non-null   float64\n",
      " 59  GluR3_N          1080 non-null   float64\n",
      " 60  GluR4_N          1080 non-null   float64\n",
      " 61  IL1B_N           1080 non-null   float64\n",
      " 62  P3525_N          1080 non-null   float64\n",
      " 63  pCASP9_N         1080 non-null   float64\n",
      " 64  PSD95_N          1080 non-null   float64\n",
      " 65  SNCA_N           1080 non-null   float64\n",
      " 66  Ubiquitin_N      1080 non-null   float64\n",
      " 67  pGSK3B_Tyr216_N  1080 non-null   float64\n",
      " 68  SHH_N            1080 non-null   float64\n",
      " 69  BAD_N            867 non-null    float64\n",
      " 70  BCL2_N           795 non-null    float64\n",
      " 71  pS6_N            1080 non-null   float64\n",
      " 72  pCFOS_N          1005 non-null   float64\n",
      " 73  SYP_N            1080 non-null   float64\n",
      " 74  H3AcK18_N        900 non-null    float64\n",
      " 75  EGR1_N           870 non-null    float64\n",
      " 76  H3MeK4_N         810 non-null    float64\n",
      " 77  CaNA_N           1080 non-null   float64\n",
      " 78  Genotype         1080 non-null   object \n",
      " 79  Treatment        1080 non-null   object \n",
      " 80  Behavior         1080 non-null   object \n",
      " 81  class            1080 non-null   object \n",
      "dtypes: float64(77), object(5)\n",
      "memory usage: 692.0+ KB\n"
     ]
    }
   ],
   "source": [
    "df.info()"
   ]
  },
  {
   "cell_type": "code",
   "execution_count": 119,
   "metadata": {},
   "outputs": [
    {
     "data": {
      "text/html": [
       "<div>\n",
       "<style scoped>\n",
       "    .dataframe tbody tr th:only-of-type {\n",
       "        vertical-align: middle;\n",
       "    }\n",
       "\n",
       "    .dataframe tbody tr th {\n",
       "        vertical-align: top;\n",
       "    }\n",
       "\n",
       "    .dataframe thead th {\n",
       "        text-align: right;\n",
       "    }\n",
       "</style>\n",
       "<table border=\"1\" class=\"dataframe\">\n",
       "  <thead>\n",
       "    <tr style=\"text-align: right;\">\n",
       "      <th></th>\n",
       "      <th>MouseID</th>\n",
       "      <th>DYRK1A_N</th>\n",
       "      <th>ITSN1_N</th>\n",
       "      <th>BDNF_N</th>\n",
       "      <th>NR1_N</th>\n",
       "      <th>NR2A_N</th>\n",
       "      <th>pAKT_N</th>\n",
       "      <th>pBRAF_N</th>\n",
       "      <th>pCAMKII_N</th>\n",
       "      <th>pCREB_N</th>\n",
       "      <th>...</th>\n",
       "      <th>pCFOS_N</th>\n",
       "      <th>SYP_N</th>\n",
       "      <th>H3AcK18_N</th>\n",
       "      <th>EGR1_N</th>\n",
       "      <th>H3MeK4_N</th>\n",
       "      <th>CaNA_N</th>\n",
       "      <th>Genotype</th>\n",
       "      <th>Treatment</th>\n",
       "      <th>Behavior</th>\n",
       "      <th>class</th>\n",
       "    </tr>\n",
       "  </thead>\n",
       "  <tbody>\n",
       "    <tr>\n",
       "      <th>0</th>\n",
       "      <td>309_1</td>\n",
       "      <td>0.503644</td>\n",
       "      <td>0.747193</td>\n",
       "      <td>0.430175</td>\n",
       "      <td>2.816329</td>\n",
       "      <td>5.990152</td>\n",
       "      <td>0.218830</td>\n",
       "      <td>0.177565</td>\n",
       "      <td>2.373744</td>\n",
       "      <td>0.232224</td>\n",
       "      <td>...</td>\n",
       "      <td>0.108336</td>\n",
       "      <td>0.427099</td>\n",
       "      <td>0.114783</td>\n",
       "      <td>0.131790</td>\n",
       "      <td>0.128186</td>\n",
       "      <td>1.675652</td>\n",
       "      <td>Control</td>\n",
       "      <td>Memantine</td>\n",
       "      <td>C/S</td>\n",
       "      <td>c-CS-m</td>\n",
       "    </tr>\n",
       "    <tr>\n",
       "      <th>1</th>\n",
       "      <td>309_2</td>\n",
       "      <td>0.514617</td>\n",
       "      <td>0.689064</td>\n",
       "      <td>0.411770</td>\n",
       "      <td>2.789514</td>\n",
       "      <td>5.685038</td>\n",
       "      <td>0.211636</td>\n",
       "      <td>0.172817</td>\n",
       "      <td>2.292150</td>\n",
       "      <td>0.226972</td>\n",
       "      <td>...</td>\n",
       "      <td>0.104315</td>\n",
       "      <td>0.441581</td>\n",
       "      <td>0.111974</td>\n",
       "      <td>0.135103</td>\n",
       "      <td>0.131119</td>\n",
       "      <td>1.743610</td>\n",
       "      <td>Control</td>\n",
       "      <td>Memantine</td>\n",
       "      <td>C/S</td>\n",
       "      <td>c-CS-m</td>\n",
       "    </tr>\n",
       "    <tr>\n",
       "      <th>2</th>\n",
       "      <td>309_3</td>\n",
       "      <td>0.509183</td>\n",
       "      <td>0.730247</td>\n",
       "      <td>0.418309</td>\n",
       "      <td>2.687201</td>\n",
       "      <td>5.622059</td>\n",
       "      <td>0.209011</td>\n",
       "      <td>0.175722</td>\n",
       "      <td>2.283337</td>\n",
       "      <td>0.230247</td>\n",
       "      <td>...</td>\n",
       "      <td>0.106219</td>\n",
       "      <td>0.435777</td>\n",
       "      <td>0.111883</td>\n",
       "      <td>0.133362</td>\n",
       "      <td>0.127431</td>\n",
       "      <td>1.926427</td>\n",
       "      <td>Control</td>\n",
       "      <td>Memantine</td>\n",
       "      <td>C/S</td>\n",
       "      <td>c-CS-m</td>\n",
       "    </tr>\n",
       "    <tr>\n",
       "      <th>3</th>\n",
       "      <td>309_4</td>\n",
       "      <td>0.442107</td>\n",
       "      <td>0.617076</td>\n",
       "      <td>0.358626</td>\n",
       "      <td>2.466947</td>\n",
       "      <td>4.979503</td>\n",
       "      <td>0.222886</td>\n",
       "      <td>0.176463</td>\n",
       "      <td>2.152301</td>\n",
       "      <td>0.207004</td>\n",
       "      <td>...</td>\n",
       "      <td>0.111262</td>\n",
       "      <td>0.391691</td>\n",
       "      <td>0.130405</td>\n",
       "      <td>0.147444</td>\n",
       "      <td>0.146901</td>\n",
       "      <td>1.700563</td>\n",
       "      <td>Control</td>\n",
       "      <td>Memantine</td>\n",
       "      <td>C/S</td>\n",
       "      <td>c-CS-m</td>\n",
       "    </tr>\n",
       "    <tr>\n",
       "      <th>4</th>\n",
       "      <td>309_5</td>\n",
       "      <td>0.434940</td>\n",
       "      <td>0.617430</td>\n",
       "      <td>0.358802</td>\n",
       "      <td>2.365785</td>\n",
       "      <td>4.718679</td>\n",
       "      <td>0.213106</td>\n",
       "      <td>0.173627</td>\n",
       "      <td>2.134014</td>\n",
       "      <td>0.192158</td>\n",
       "      <td>...</td>\n",
       "      <td>0.110694</td>\n",
       "      <td>0.434154</td>\n",
       "      <td>0.118481</td>\n",
       "      <td>0.140314</td>\n",
       "      <td>0.148380</td>\n",
       "      <td>1.839730</td>\n",
       "      <td>Control</td>\n",
       "      <td>Memantine</td>\n",
       "      <td>C/S</td>\n",
       "      <td>c-CS-m</td>\n",
       "    </tr>\n",
       "  </tbody>\n",
       "</table>\n",
       "<p>5 rows × 82 columns</p>\n",
       "</div>"
      ],
      "text/plain": [
       "  MouseID  DYRK1A_N   ITSN1_N    BDNF_N     NR1_N    NR2A_N    pAKT_N  \\\n",
       "0   309_1  0.503644  0.747193  0.430175  2.816329  5.990152  0.218830   \n",
       "1   309_2  0.514617  0.689064  0.411770  2.789514  5.685038  0.211636   \n",
       "2   309_3  0.509183  0.730247  0.418309  2.687201  5.622059  0.209011   \n",
       "3   309_4  0.442107  0.617076  0.358626  2.466947  4.979503  0.222886   \n",
       "4   309_5  0.434940  0.617430  0.358802  2.365785  4.718679  0.213106   \n",
       "\n",
       "    pBRAF_N  pCAMKII_N   pCREB_N  ...   pCFOS_N     SYP_N  H3AcK18_N  \\\n",
       "0  0.177565   2.373744  0.232224  ...  0.108336  0.427099   0.114783   \n",
       "1  0.172817   2.292150  0.226972  ...  0.104315  0.441581   0.111974   \n",
       "2  0.175722   2.283337  0.230247  ...  0.106219  0.435777   0.111883   \n",
       "3  0.176463   2.152301  0.207004  ...  0.111262  0.391691   0.130405   \n",
       "4  0.173627   2.134014  0.192158  ...  0.110694  0.434154   0.118481   \n",
       "\n",
       "     EGR1_N  H3MeK4_N    CaNA_N  Genotype  Treatment  Behavior   class  \n",
       "0  0.131790  0.128186  1.675652   Control  Memantine       C/S  c-CS-m  \n",
       "1  0.135103  0.131119  1.743610   Control  Memantine       C/S  c-CS-m  \n",
       "2  0.133362  0.127431  1.926427   Control  Memantine       C/S  c-CS-m  \n",
       "3  0.147444  0.146901  1.700563   Control  Memantine       C/S  c-CS-m  \n",
       "4  0.140314  0.148380  1.839730   Control  Memantine       C/S  c-CS-m  \n",
       "\n",
       "[5 rows x 82 columns]"
      ]
     },
     "execution_count": 119,
     "metadata": {},
     "output_type": "execute_result"
    }
   ],
   "source": [
    "df.head()"
   ]
  },
  {
   "cell_type": "code",
   "execution_count": 120,
   "metadata": {},
   "outputs": [
    {
     "data": {
      "text/plain": [
       "0.2638888888888889"
      ]
     },
     "execution_count": 120,
     "metadata": {},
     "output_type": "execute_result"
    }
   ],
   "source": [
    "missing_values = df.isnull().mean()\n",
    "missing_values.max()"
   ]
  },
  {
   "cell_type": "code",
   "execution_count": 121,
   "metadata": {},
   "outputs": [],
   "source": [
    "df = df.dropna().reset_index(drop=True)"
   ]
  },
  {
   "cell_type": "code",
   "execution_count": 122,
   "metadata": {},
   "outputs": [
    {
     "data": {
      "text/plain": [
       "class\n",
       "t-CS-m    90\n",
       "c-CS-s    75\n",
       "c-SC-s    75\n",
       "t-CS-s    75\n",
       "t-SC-s    72\n",
       "c-SC-m    60\n",
       "t-SC-m    60\n",
       "c-CS-m    45\n",
       "Name: count, dtype: int64"
      ]
     },
     "execution_count": 122,
     "metadata": {},
     "output_type": "execute_result"
    }
   ],
   "source": [
    "df['class'].value_counts()"
   ]
  },
  {
   "cell_type": "code",
   "execution_count": 123,
   "metadata": {},
   "outputs": [],
   "source": [
    "num_classes = df['class'].nunique()"
   ]
  },
  {
   "cell_type": "code",
   "execution_count": 124,
   "metadata": {},
   "outputs": [],
   "source": [
    "y_train = df['class']\n",
    "x_train = df.drop('class', axis=1).select_dtypes(exclude=['object'])"
   ]
  },
  {
   "cell_type": "markdown",
   "metadata": {},
   "source": [
    "1. Произвести масштабирование признаков (scaling)."
   ]
  },
  {
   "cell_type": "code",
   "execution_count": 125,
   "metadata": {},
   "outputs": [],
   "source": [
    "scaler = preprocessing.StandardScaler()\n",
    "x_train = scaler.fit_transform(x_train)"
   ]
  },
  {
   "cell_type": "markdown",
   "metadata": {},
   "source": [
    "2. С использованием библиотеки scikit-learn написать программу с использованием алгоритмов кластеризации данных, позволяющую разделить исходную выборку на классы, соответствующие предложенной вариантом задаче."
   ]
  },
  {
   "cell_type": "code",
   "execution_count": 126,
   "metadata": {},
   "outputs": [
    {
     "name": "stdout",
     "output_type": "stream",
     "text": [
      "[7 7 7 7 7 7 5 5 5 6 6 2 6 6 6 7 7 7 5 5 5 6 6 6 6 6 6 6 6 6 7 7 7 7 7 7 1\n",
      " 1 1 1 1 1 1 1 1 3 3 3 3 3 3 3 3 3 4 4 4 4 4 4 3 3 3 2 2 2 6 6 6 6 6 6 6 6\n",
      " 6 3 3 3 3 3 3 2 2 2 2 2 2 2 2 2 2 2 2 2 2 2 2 2 2 2 2 2 2 2 2 7 7 7 7 7 7\n",
      " 1 1 1 1 1 1 1 1 1 5 5 5 5 5 5 5 5 5 6 6 6 6 6 6 0 0 0 0 0 0 0 6 0 0 6 0 0\n",
      " 6 0 7 7 7 7 7 5 5 5 5 5 5 5 5 6 6 7 7 7 5 5 5 5 5 5 5 5 6 6 6 6 3 3 3 2 3\n",
      " 3 2 2 2 2 2 2 2 2 2 3 3 3 3 3 3 3 3 3 3 3 3 3 3 3 3 3 3 2 2 2 2 2 2 2 2 2\n",
      " 2 2 2 3 3 3 3 3 3 3 3 3 3 3 3 3 3 2 3 3 3 3 3 3 3 3 3 6 6 2 6 6 2 5 5 5 5\n",
      " 5 5 6 6 6 6 6 6 6 6 6 5 5 5 5 5 5 5 6 6 6 6 6 6 6 6 7 7 7 7 7 7 7 1 5 1 1\n",
      " 1 1 1 1 7 7 7 1 1 1 1 1 1 1 1 1 1 1 1 7 7 7 7 7 7 1 1 1 1 1 1 1 1 1 7 7 7\n",
      " 1 1 1 1 1 1 1 1 1 1 1 1 3 3 3 3 3 3 3 3 3 1 1 1 1 1 1 3 4 4 3 4 4 4 4 4 4\n",
      " 4 4 4 4 4 3 3 3 3 3 3 3 3 3 2 3 2 4 4 4 3 3 3 3 2 3 2 2 2 2 2 2 2 2 2 7 7\n",
      " 7 1 1 1 1 1 1 1 1 1 1 1 1 5 5 5 5 5 5 6 6 6 6 6 6 6 6 6 5 5 5 5 5 5 5 5 5\n",
      " 6 6 6 6 6 6 7 7 7 7 7 7 5 5 5 5 5 5 5 5 1 7 7 7 5 5 5 1 1 1 1 1 1 1 1 1 1\n",
      " 1 1 1 1 1 6 6 6 6 6 6 6 6 6 3 5 5 5 5 5 6 6 6 6 6 6 6 6 6 7 7 7 7 1 7 1 1\n",
      " 1 1 1 1 7 7 7 3 3 3 1 1 1 1 1 1 1 1 1 4 4 4 4 4 4 4 4 4 4 4 4 4 4 4]\n",
      "Точность кластеризации KMeans:  0.3240098650713694\n",
      "Точность кластеризации MiniBatchKMeans:  0.3240098650713694\n",
      "Точность кластеризации AffinityPropagation:  0.6335216311438258\n"
     ]
    }
   ],
   "source": [
    "#KMeans\n",
    "kmeans = KMeans(n_clusters=num_classes)\n",
    "kmeans.fit(x_train)\n",
    "kmeans_score = normalized_mutual_info_score(y_train, kmeans.labels_)\n",
    "\n",
    "print(kmeans.labels_)\n",
    "\n",
    "print(\"Точность кластеризации KMeans: \", kmeans_score)\n",
    "\n",
    "#MiniBatchKMeans\n",
    "mini_batch_kmeans = MiniBatchKMeans(n_clusters=num_classes)\n",
    "mini_batch_kmeans.fit(x_train)\n",
    "mini_batch_kmeans_score = normalized_mutual_info_score(y_train, mini_batch_kmeans.labels_)\n",
    "\n",
    "print(\"Точность кластеризации MiniBatchKMeans: \", kmeans_score)\n",
    "\n",
    "#AffinityPropagation\n",
    "affinity_propagation = AffinityPropagation()\n",
    "affinity_propagation.fit(x_train)\n",
    "affinity_propagation_score = normalized_mutual_info_score(y_train, affinity_propagation.labels_)\n",
    "\n",
    "print(\"Точность кластеризации AffinityPropagation: \", affinity_propagation_score)"
   ]
  },
  {
   "cell_type": "markdown",
   "metadata": {},
   "source": [
    "3. Провести эксперименты и определить наилучший алгоритм кластеризации, параметры алгоритма. Необходимо использовать не менее 3-х алгоритмов. Данные экспериментов необходимо представить в отчете (графики, ход проведения эксперимента, выводы)."
   ]
  },
  {
   "cell_type": "markdown",
   "metadata": {},
   "source": [
    "#### Подбор параметров для KMeans."
   ]
  },
  {
   "cell_type": "code",
   "execution_count": 127,
   "metadata": {},
   "outputs": [
    {
     "name": "stdout",
     "output_type": "stream",
     "text": [
      "Лучшая точность KMeans:  0.28595790577449265\n",
      "Лучшее значение параметра n_clusters:  4\n",
      "Лучшее значение параметра n_init:  8\n"
     ]
    }
   ],
   "source": [
    "best_n_clusters = 1\n",
    "best_n_init = 1\n",
    "best_kmeans_score = -1e20\n",
    "for n_clusters in range(1, 5):\n",
    "    for n_init in range(1, 20):\n",
    "        kmeans = KMeans(n_clusters=n_clusters, n_init=n_init)\n",
    "        kmeans.fit(x_train)\n",
    "        kmeans_score = normalized_mutual_info_score(y_train, kmeans.labels_)\n",
    "        \n",
    "        if kmeans_score > best_kmeans_score:\n",
    "            best_kmeans_score = kmeans_score\n",
    "            best_n_clusters = n_clusters\n",
    "            best_n_init = n_init\n",
    "\n",
    "print('Лучшая точность KMeans: ', best_kmeans_score)\n",
    "print('Лучшее значение параметра n_clusters: ', best_n_clusters)\n",
    "print('Лучшее значение параметра n_init: ', best_n_init)"
   ]
  },
  {
   "cell_type": "markdown",
   "metadata": {},
   "source": [
    "#### Подбор параметров для MiniBatchKMeans."
   ]
  },
  {
   "cell_type": "code",
   "execution_count": 128,
   "metadata": {},
   "outputs": [
    {
     "name": "stdout",
     "output_type": "stream",
     "text": [
      "Лучшая точность MiniBatchKMeans:  0.430330374629994\n",
      "Лучшее значение параметра n_clusters:  2\n",
      "Лучшее значение параметра n_init:  10\n"
     ]
    }
   ],
   "source": [
    "best_n_clusters = 1\n",
    "best_n_init = 1\n",
    "best_mini_batch_kmeans_score = -1e20\n",
    "for n_clusters in range(1, 5):\n",
    "    for n_init in range(1, 20):\n",
    "        mini_batch_kmeans = MiniBatchKMeans(n_clusters=n_clusters, n_init=n_init)\n",
    "        mini_batch_kmeans.fit(x_train)\n",
    "        mini_batch_kmeans_score = normalized_mutual_info_score(y_train, mini_batch_kmeans.labels_)\n",
    "        \n",
    "        if mini_batch_kmeans_score > best_mini_batch_kmeans_score:\n",
    "            best_mini_batch_kmeans_score = mini_batch_kmeans_score\n",
    "            best_n_clusters = n_clusters\n",
    "            best_n_init = n_init\n",
    "\n",
    "print('Лучшая точность MiniBatchKMeans: ', best_mini_batch_kmeans_score)\n",
    "print('Лучшее значение параметра n_clusters: ', best_n_clusters)\n",
    "print('Лучшее значение параметра n_init: ', best_n_init)"
   ]
  },
  {
   "cell_type": "markdown",
   "metadata": {},
   "source": [
    "#### Подбор параметров для AffinityPropagation."
   ]
  },
  {
   "cell_type": "code",
   "execution_count": 129,
   "metadata": {},
   "outputs": [
    {
     "name": "stderr",
     "output_type": "stream",
     "text": [
      "c:\\University\\Semester-6\\ML\\Labs\\ML-Lab5\\venv\\Lib\\site-packages\\sklearn\\cluster\\_affinity_propagation.py:142: ConvergenceWarning: Affinity propagation did not converge, this model may return degenerate cluster centers and labels.\n",
      "  warnings.warn(\n",
      "c:\\University\\Semester-6\\ML\\Labs\\ML-Lab5\\venv\\Lib\\site-packages\\sklearn\\cluster\\_affinity_propagation.py:142: ConvergenceWarning: Affinity propagation did not converge, this model may return degenerate cluster centers and labels.\n",
      "  warnings.warn(\n",
      "c:\\University\\Semester-6\\ML\\Labs\\ML-Lab5\\venv\\Lib\\site-packages\\sklearn\\cluster\\_affinity_propagation.py:142: ConvergenceWarning: Affinity propagation did not converge, this model may return degenerate cluster centers and labels.\n",
      "  warnings.warn(\n",
      "c:\\University\\Semester-6\\ML\\Labs\\ML-Lab5\\venv\\Lib\\site-packages\\sklearn\\cluster\\_affinity_propagation.py:142: ConvergenceWarning: Affinity propagation did not converge, this model may return degenerate cluster centers and labels.\n",
      "  warnings.warn(\n",
      "c:\\University\\Semester-6\\ML\\Labs\\ML-Lab5\\venv\\Lib\\site-packages\\sklearn\\cluster\\_affinity_propagation.py:142: ConvergenceWarning: Affinity propagation did not converge, this model may return degenerate cluster centers and labels.\n",
      "  warnings.warn(\n",
      "c:\\University\\Semester-6\\ML\\Labs\\ML-Lab5\\venv\\Lib\\site-packages\\sklearn\\cluster\\_affinity_propagation.py:142: ConvergenceWarning: Affinity propagation did not converge, this model may return degenerate cluster centers and labels.\n",
      "  warnings.warn(\n",
      "c:\\University\\Semester-6\\ML\\Labs\\ML-Lab5\\venv\\Lib\\site-packages\\sklearn\\cluster\\_affinity_propagation.py:142: ConvergenceWarning: Affinity propagation did not converge, this model may return degenerate cluster centers and labels.\n",
      "  warnings.warn(\n",
      "c:\\University\\Semester-6\\ML\\Labs\\ML-Lab5\\venv\\Lib\\site-packages\\sklearn\\cluster\\_affinity_propagation.py:142: ConvergenceWarning: Affinity propagation did not converge, this model may return degenerate cluster centers and labels.\n",
      "  warnings.warn(\n",
      "c:\\University\\Semester-6\\ML\\Labs\\ML-Lab5\\venv\\Lib\\site-packages\\sklearn\\cluster\\_affinity_propagation.py:142: ConvergenceWarning: Affinity propagation did not converge, this model may return degenerate cluster centers and labels.\n",
      "  warnings.warn(\n",
      "c:\\University\\Semester-6\\ML\\Labs\\ML-Lab5\\venv\\Lib\\site-packages\\sklearn\\cluster\\_affinity_propagation.py:142: ConvergenceWarning: Affinity propagation did not converge, this model may return degenerate cluster centers and labels.\n",
      "  warnings.warn(\n",
      "c:\\University\\Semester-6\\ML\\Labs\\ML-Lab5\\venv\\Lib\\site-packages\\sklearn\\cluster\\_affinity_propagation.py:142: ConvergenceWarning: Affinity propagation did not converge, this model may return degenerate cluster centers and labels.\n",
      "  warnings.warn(\n",
      "c:\\University\\Semester-6\\ML\\Labs\\ML-Lab5\\venv\\Lib\\site-packages\\sklearn\\cluster\\_affinity_propagation.py:142: ConvergenceWarning: Affinity propagation did not converge, this model may return degenerate cluster centers and labels.\n",
      "  warnings.warn(\n",
      "c:\\University\\Semester-6\\ML\\Labs\\ML-Lab5\\venv\\Lib\\site-packages\\sklearn\\cluster\\_affinity_propagation.py:142: ConvergenceWarning: Affinity propagation did not converge, this model may return degenerate cluster centers and labels.\n",
      "  warnings.warn(\n",
      "c:\\University\\Semester-6\\ML\\Labs\\ML-Lab5\\venv\\Lib\\site-packages\\sklearn\\cluster\\_affinity_propagation.py:142: ConvergenceWarning: Affinity propagation did not converge, this model may return degenerate cluster centers and labels.\n",
      "  warnings.warn(\n",
      "c:\\University\\Semester-6\\ML\\Labs\\ML-Lab5\\venv\\Lib\\site-packages\\sklearn\\cluster\\_affinity_propagation.py:142: ConvergenceWarning: Affinity propagation did not converge, this model may return degenerate cluster centers and labels.\n",
      "  warnings.warn(\n",
      "c:\\University\\Semester-6\\ML\\Labs\\ML-Lab5\\venv\\Lib\\site-packages\\sklearn\\cluster\\_affinity_propagation.py:142: ConvergenceWarning: Affinity propagation did not converge, this model may return degenerate cluster centers and labels.\n",
      "  warnings.warn(\n",
      "c:\\University\\Semester-6\\ML\\Labs\\ML-Lab5\\venv\\Lib\\site-packages\\sklearn\\cluster\\_affinity_propagation.py:142: ConvergenceWarning: Affinity propagation did not converge, this model may return degenerate cluster centers and labels.\n",
      "  warnings.warn(\n",
      "c:\\University\\Semester-6\\ML\\Labs\\ML-Lab5\\venv\\Lib\\site-packages\\sklearn\\cluster\\_affinity_propagation.py:142: ConvergenceWarning: Affinity propagation did not converge, this model may return degenerate cluster centers and labels.\n",
      "  warnings.warn(\n",
      "c:\\University\\Semester-6\\ML\\Labs\\ML-Lab5\\venv\\Lib\\site-packages\\sklearn\\cluster\\_affinity_propagation.py:142: ConvergenceWarning: Affinity propagation did not converge, this model may return degenerate cluster centers and labels.\n",
      "  warnings.warn(\n",
      "c:\\University\\Semester-6\\ML\\Labs\\ML-Lab5\\venv\\Lib\\site-packages\\sklearn\\cluster\\_affinity_propagation.py:142: ConvergenceWarning: Affinity propagation did not converge, this model may return degenerate cluster centers and labels.\n",
      "  warnings.warn(\n",
      "c:\\University\\Semester-6\\ML\\Labs\\ML-Lab5\\venv\\Lib\\site-packages\\sklearn\\cluster\\_affinity_propagation.py:142: ConvergenceWarning: Affinity propagation did not converge, this model may return degenerate cluster centers and labels.\n",
      "  warnings.warn(\n",
      "c:\\University\\Semester-6\\ML\\Labs\\ML-Lab5\\venv\\Lib\\site-packages\\sklearn\\cluster\\_affinity_propagation.py:142: ConvergenceWarning: Affinity propagation did not converge, this model may return degenerate cluster centers and labels.\n",
      "  warnings.warn(\n"
     ]
    },
    {
     "name": "stdout",
     "output_type": "stream",
     "text": [
      "Лучшая точность AffinityPropagation:  0.6179063861891475\n",
      "Лучшее значение параметра damping:  0.5\n",
      "Лучшее значение параметра preference:  -50.0\n"
     ]
    }
   ],
   "source": [
    "best_damping = 1\n",
    "best_preference = 1\n",
    "best_affinity_propagation_score = -1e20\n",
    "for damping in np.linspace(0.5, 0.8, 20):\n",
    "    for preference in np.linspace(-50, 50, 20):\n",
    "        affinity_propagation = AffinityPropagation(damping=damping, preference=preference)\n",
    "        affinity_propagation.fit(x_train)\n",
    "        affinity_propagation_score = normalized_mutual_info_score(y_train, affinity_propagation.labels_)\n",
    "        \n",
    "        if affinity_propagation_score > best_affinity_propagation_score:\n",
    "            best_affinity_propagation_score = affinity_propagation_score\n",
    "            best_damping = damping\n",
    "            best_preference = preference\n",
    "\n",
    "print('Лучшая точность AffinityPropagation: ', best_affinity_propagation_score)\n",
    "print('Лучшее значение параметра damping: ', best_damping)\n",
    "print('Лучшее значение параметра preference: ', best_preference)"
   ]
  },
  {
   "cell_type": "markdown",
   "metadata": {},
   "source": [
    "#### Вывод"
   ]
  },
  {
   "cell_type": "code",
   "execution_count": 130,
   "metadata": {},
   "outputs": [
    {
     "name": "stdout",
     "output_type": "stream",
     "text": [
      "Точность метода KMeans: 0.28595790577449265\n",
      "Точность метода MiniBatchKMeans: 0.430330374629994\n",
      "Точность метода AffinityPropagation: 0.6179063861891475\n",
      "\n",
      "Итог: лучшим оказался метод AffinityPropagation\n"
     ]
    }
   ],
   "source": [
    "method_name = ['KMeans', 'MiniBatchKMeans', 'AffinityPropagation']\n",
    "scores = [best_kmeans_score, best_mini_batch_kmeans_score, best_affinity_propagation_score]\n",
    "best_method_name = method_name[np.argmax(scores)]\n",
    "\n",
    "for id, name in enumerate(method_name):\n",
    "    print(f'Точность метода {name}: {scores[id]}')\n",
    "\n",
    "print(f'\\nИтог: лучшим оказался метод {best_method_name}')"
   ]
  }
 ],
 "metadata": {
  "kernelspec": {
   "display_name": "venv",
   "language": "python",
   "name": "python3"
  },
  "language_info": {
   "codemirror_mode": {
    "name": "ipython",
    "version": 3
   },
   "file_extension": ".py",
   "mimetype": "text/x-python",
   "name": "python",
   "nbconvert_exporter": "python",
   "pygments_lexer": "ipython3",
   "version": "3.11.6"
  }
 },
 "nbformat": 4,
 "nbformat_minor": 2
}
